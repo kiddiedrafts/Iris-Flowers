{
 "cells": [
  {
   "cell_type": "code",
   "execution_count": 18,
   "id": "2b198b84",
   "metadata": {},
   "outputs": [],
   "source": [
    "import numpy as np"
   ]
  },
  {
   "cell_type": "code",
   "execution_count": 19,
   "id": "26d1efb5",
   "metadata": {},
   "outputs": [
    {
     "name": "stdout",
     "output_type": "stream",
     "text": [
      "(120, 4)\n"
     ]
    }
   ],
   "source": [
    "irises = np.load('irises.npy')\n",
    "print(irises.shape)"
   ]
  },
  {
   "cell_type": "code",
   "execution_count": 20,
   "id": "f6c55d30",
   "metadata": {},
   "outputs": [
    {
     "name": "stdout",
     "output_type": "stream",
     "text": [
      "(120,)\n"
     ]
    }
   ],
   "source": [
    "types = np.load('types.npy')\n",
    "print(types.shape)"
   ]
  },
  {
   "cell_type": "code",
   "execution_count": 21,
   "id": "d72e445e",
   "metadata": {},
   "outputs": [
    {
     "name": "stdout",
     "output_type": "stream",
     "text": [
      "(30, 4)\n"
     ]
    }
   ],
   "source": [
    "new_irises = np.load('new_irises.npy')\n",
    "print(new_irises.shape)"
   ]
  },
  {
   "cell_type": "code",
   "execution_count": 22,
   "id": "524e1890",
   "metadata": {},
   "outputs": [
    {
     "name": "stdout",
     "output_type": "stream",
     "text": [
      "Number of training samples (n): 120\n",
      "Number of test samples (m): 30\n"
     ]
    }
   ],
   "source": [
    "n, m = len(irises), len(new_irises)\n",
    "print(\"Number of training samples (n):\", n)\n",
    "print(\"Number of test samples (m):\", m)"
   ]
  },
  {
   "cell_type": "code",
   "execution_count": 23,
   "id": "bbace2d7",
   "metadata": {},
   "outputs": [],
   "source": [
    "def calc_two_loops(new_points, points):\n",
    "    \n",
    "    #‌ m is the number of new points (test samples)\n",
    "    m = len(new_points)\n",
    "    # n is the number of points (training samples)\n",
    "    n = len(points)\n",
    "    # Distance matrix\n",
    "    d = np.zeros((m, n))\n",
    "    \n",
    "    # For each new point\n",
    "    for i in range(m):\n",
    "        # For each point\n",
    "        for j in range(n):\n",
    "            # Calculate the distance between the two points\n",
    "            d[i, j] = np.sum(np.square(new_points[i] - points[j]))\n",
    "            \n",
    "    return d"
   ]
  },
  {
   "cell_type": "code",
   "execution_count": 24,
   "id": "282f9b9c",
   "metadata": {},
   "outputs": [
    {
     "name": "stdout",
     "output_type": "stream",
     "text": [
      "(30, 120)\n"
     ]
    }
   ],
   "source": [
    "d2 = calc_two_loops(new_irises, irises)\n",
    "print(d2.shape)"
   ]
  },
  {
   "cell_type": "code",
   "execution_count": 25,
   "id": "021a9f1c",
   "metadata": {},
   "outputs": [],
   "source": [
    "def calc_one_loop(new_points, points):\n",
    "    \n",
    "    #‌ m is the number of new points (test samples)\n",
    "    m = len(new_points)\n",
    "    # n is the number of points (training samples)\n",
    "    n = len(points)\n",
    "    # Distance matrix\n",
    "    d = np.zeros((m, n))\n",
    "    \n",
    "    # For each new point\n",
    "    for i in range(m):\n",
    "        # Calculate the distance between the new point and all the points\n",
    "        d[i] = np.sum(np.square(np.subtract(new_points[i], points)), axis = 1)  \n",
    "    return d"
   ]
  },
  {
   "cell_type": "code",
   "execution_count": 26,
   "id": "4f7f3d42",
   "metadata": {},
   "outputs": [
    {
     "name": "stdout",
     "output_type": "stream",
     "text": [
      "(30, 120)\n"
     ]
    }
   ],
   "source": [
    "d1 = calc_one_loop(new_irises, irises)\n",
    "print(d1.shape)"
   ]
  },
  {
   "cell_type": "code",
   "execution_count": 27,
   "id": "f3e881e6",
   "metadata": {},
   "outputs": [],
   "source": [
    "def calc_no_loop(new_points, points):\n",
    "    return np.sum(np.square(np.subtract(new_points.reshape(30, 1, 4), points.reshape(1, 120, 4))), axis = 2)"
   ]
  },
  {
   "cell_type": "code",
   "execution_count": 28,
   "id": "5091f442",
   "metadata": {},
   "outputs": [
    {
     "name": "stdout",
     "output_type": "stream",
     "text": [
      "(30, 120)\n"
     ]
    }
   ],
   "source": [
    "d = calc_no_loop(new_irises, irises)\n",
    "print(d.shape)"
   ]
  },
  {
   "cell_type": "code",
   "execution_count": 29,
   "id": "6b3eda6e",
   "metadata": {},
   "outputs": [
    {
     "name": "stdout",
     "output_type": "stream",
     "text": [
      "Fine!\n"
     ]
    }
   ],
   "source": [
    "if np.allclose(d, d1, 1e-5) and np.allclose(d, d2, 1e-5) and np.allclose(d1, d2, 1e-5):\n",
    "    print('Fine!')\n",
    "else:\n",
    "    print('There is something wrong!')"
   ]
  },
  {
   "cell_type": "code",
   "execution_count": 30,
   "id": "6619de84",
   "metadata": {},
   "outputs": [
    {
     "name": "stdout",
     "output_type": "stream",
     "text": [
      "[[  6  14   0  32  22  17  23  37  39  21]\n",
      " [ 10   1  30  24  20   2  36   3   6  28]\n",
      " [ 27  13   8  39   4  29  15  12  26  25]\n",
      " [ 14  17   0  39  37  22   8  32  26  13]\n",
      " [ 21  20  30   3   9  24   6  19  35   5]\n",
      " [  3   9  24  38   2  36   5  30  10   1]\n",
      " [ 10   1  30  24  20   2  36   3   6  28]\n",
      " [  0   6  22  23  21  14   9  32  17  39]\n",
      " [ 39  35  17  22   4  21  37  19   8  16]\n",
      " [ 28   6  23   0  14  21  30  32  22   9]\n",
      " [ 47  73  69  61  52  51  41  60 101  58]\n",
      " [ 71  43  65  64  77  74  72  66  76  54]\n",
      " [ 71  65  74  64  66  77  76  54  57  49]\n",
      " [ 64  65  74  66  43  50  54  72  77  71]\n",
      " [ 78  60  47  41  73  52  63  57  51  59]\n",
      " [ 74  65  54  64  66  43  50  57  71  75]\n",
      " [ 77  71  44  53  72  76  49  63  56  97]\n",
      " [ 72  66  64  74  43  65  77  54  71  76]\n",
      " [ 77  74  44  72  71  76  54  66  43  53]\n",
      " [ 66  54  71  76  77  74  49  57  44  72]\n",
      " [ 90 103 106  96 112 115  93  83  80 110]\n",
      " [ 82  96 100 108  94 115 112 105  80  84]\n",
      " [111  92  97 117  81 114 102  91 101  56]\n",
      " [107  67  81 117  58 114  91  99  55  70]\n",
      " [110  82  90  92  96 115  93 109 112 103]\n",
      " [100 104  82  86  96  93  90  87 115 110]\n",
      " [107  83  87  89  67  93  58 110  81 114]\n",
      " [113  90 118 112 116  96  93  82  88  92]\n",
      " [115  96 112 109  80  90  92 116 119 106]\n",
      " [114 102 111  81  67  56  97 101  99 107]]\n"
     ]
    }
   ],
   "source": [
    "k = 10\n",
    "k_nearest = np.argpartition(d, k - 1, axis = 1)\n",
    "k_nearest = k_nearest[::, 0:10:]\n",
    "print(k_nearest)"
   ]
  },
  {
   "cell_type": "code",
   "execution_count": 31,
   "id": "b60f862c",
   "metadata": {},
   "outputs": [
    {
     "data": {
      "text/plain": [
       "array([[0, 0, 0, 0, 0, 0, 0, 0, 0, 0],\n",
       "       [0, 0, 0, 0, 0, 0, 0, 0, 0, 0],\n",
       "       [0, 0, 0, 0, 0, 0, 0, 0, 0, 0],\n",
       "       [0, 0, 0, 0, 0, 0, 0, 0, 0, 0],\n",
       "       [0, 0, 0, 0, 0, 0, 0, 0, 0, 0],\n",
       "       [0, 0, 0, 0, 0, 0, 0, 0, 0, 0],\n",
       "       [0, 0, 0, 0, 0, 0, 0, 0, 0, 0],\n",
       "       [0, 0, 0, 0, 0, 0, 0, 0, 0, 0],\n",
       "       [0, 0, 0, 0, 0, 0, 0, 0, 0, 0],\n",
       "       [0, 0, 0, 0, 0, 0, 0, 0, 0, 0],\n",
       "       [1, 1, 1, 1, 1, 1, 1, 1, 2, 1],\n",
       "       [1, 1, 1, 1, 1, 1, 1, 1, 1, 1],\n",
       "       [1, 1, 1, 1, 1, 1, 1, 1, 1, 1],\n",
       "       [1, 1, 1, 1, 1, 1, 1, 1, 1, 1],\n",
       "       [1, 1, 1, 1, 1, 1, 1, 1, 1, 1],\n",
       "       [1, 1, 1, 1, 1, 1, 1, 1, 1, 1],\n",
       "       [1, 1, 1, 1, 1, 1, 1, 1, 1, 2],\n",
       "       [1, 1, 1, 1, 1, 1, 1, 1, 1, 1],\n",
       "       [1, 1, 1, 1, 1, 1, 1, 1, 1, 1],\n",
       "       [1, 1, 1, 1, 1, 1, 1, 1, 1, 1],\n",
       "       [2, 2, 2, 2, 2, 2, 2, 2, 2, 2],\n",
       "       [2, 2, 2, 2, 2, 2, 2, 2, 2, 2],\n",
       "       [2, 2, 2, 2, 2, 2, 2, 2, 2, 1],\n",
       "       [2, 1, 2, 2, 1, 2, 2, 2, 1, 1],\n",
       "       [2, 2, 2, 2, 2, 2, 2, 2, 2, 2],\n",
       "       [2, 2, 2, 2, 2, 2, 2, 2, 2, 2],\n",
       "       [2, 2, 2, 2, 1, 2, 1, 2, 2, 2],\n",
       "       [2, 2, 2, 2, 2, 2, 2, 2, 2, 2],\n",
       "       [2, 2, 2, 2, 2, 2, 2, 2, 2, 2],\n",
       "       [2, 2, 2, 2, 1, 1, 2, 2, 2, 2]], dtype=int64)"
      ]
     },
     "execution_count": 31,
     "metadata": {},
     "output_type": "execute_result"
    }
   ],
   "source": [
    "k_nearest_types = types[k_nearest]\n",
    "k_nearest_types"
   ]
  },
  {
   "cell_type": "code",
   "execution_count": 32,
   "id": "785a1c4d",
   "metadata": {},
   "outputs": [
    {
     "data": {
      "text/plain": [
       "array([0, 0, 0, 0, 0, 0, 0, 0, 0, 0, 1, 1, 1, 1, 1, 1, 1, 1, 1, 1, 2, 2,\n",
       "       2, 2, 2, 2, 2, 2, 2, 2], dtype=int64)"
      ]
     },
     "execution_count": 32,
     "metadata": {},
     "output_type": "execute_result"
    }
   ],
   "source": [
    "from scipy import stats\n",
    "predicted_types = stats.mode(k_nearest_types, axis=1, keepdims=False).mode.reshape(m)\n",
    "predicted_types"
   ]
  },
  {
   "cell_type": "code",
   "execution_count": 33,
   "id": "6c855388",
   "metadata": {},
   "outputs": [
    {
     "name": "stdout",
     "output_type": "stream",
     "text": [
      "Accuracy: 1.0\n"
     ]
    }
   ],
   "source": [
    "new_types = np.load('new_types.npy')\n",
    "accuracy = np.sum(np.equal(new_types, predicted_types)) / len(predicted_types)\n",
    "print('Accuracy:', accuracy)"
   ]
  },
  {
   "cell_type": "code",
   "execution_count": null,
   "id": "975d5022-5640-4eb1-8ce1-2d06480f7e5e",
   "metadata": {},
   "outputs": [],
   "source": []
  }
 ],
 "metadata": {
  "kernelspec": {
   "display_name": "Python 3 (ipykernel)",
   "language": "python",
   "name": "python3"
  },
  "language_info": {
   "codemirror_mode": {
    "name": "ipython",
    "version": 3
   },
   "file_extension": ".py",
   "mimetype": "text/x-python",
   "name": "python",
   "nbconvert_exporter": "python",
   "pygments_lexer": "ipython3",
   "version": "3.11.2"
  },
  "vscode": {
   "interpreter": {
    "hash": "6a29b8f2e1e8b11f80c3820468461bcdbea6564508a235f61a46eeb59d48b308"
   }
  }
 },
 "nbformat": 4,
 "nbformat_minor": 5
}
